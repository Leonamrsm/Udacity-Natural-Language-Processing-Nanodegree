{
 "cells": [
  {
   "cell_type": "markdown",
   "metadata": {
    "collapsed": true
   },
   "source": [
    "# Artificial Intelligence Nanodegree\n",
    "## Machine Translation Project\n",
    "In this notebook, sections that end with **'(IMPLEMENTATION)'** in the header indicate that the following blocks of code will require additional functionality which you must provide. Please be sure to read the instructions carefully!\n",
    "\n",
    "## Introduction\n",
    "In this notebook, you will build a deep neural network that functions as part of an end-to-end machine translation pipeline. Your completed pipeline will accept English text as input and return the French translation.\n",
    "\n",
    "- **Preprocess** - You'll convert text to sequence of integers.\n",
    "- **Models** Create models which accepts a sequence of integers as input and returns a probability distribution over possible translations. After learning about the basic types of neural networks that are often used for machine translation, you will engage in your own investigations, to design your own model!\n",
    "- **Prediction** Run the model on English text."
   ]
  },
  {
   "cell_type": "code",
   "execution_count": 17,
   "metadata": {},
   "outputs": [
    {
     "name": "stdout",
     "output_type": "stream",
     "text": [
      "The autoreload extension is already loaded. To reload it, use:\n",
      "  %reload_ext autoreload\n"
     ]
    }
   ],
   "source": [
    "%load_ext autoreload\n",
    "%aimport helper, tests\n",
    "%autoreload 1"
   ]
  },
  {
   "cell_type": "code",
   "execution_count": 18,
   "metadata": {},
   "outputs": [],
   "source": [
    "import collections\n",
    "\n",
    "import helper\n",
    "import numpy as np\n",
    "import project_tests as tests\n",
    "\n",
    "from keras.preprocessing.text import Tokenizer\n",
    "from keras.preprocessing.sequence import pad_sequences\n",
    "from keras.models import Model\n",
    "from keras.layers import GRU, LSTM, Input, Dense, TimeDistributed, Activation, RepeatVector, Bidirectional, InputLayer\n",
    "from keras.layers import concatenate, add\n",
    "from keras.layers.embeddings import Embedding\n",
    "from keras.optimizers import Adam\n",
    "from keras.losses import sparse_categorical_crossentropy"
   ]
  },
  {
   "cell_type": "markdown",
   "metadata": {},
   "source": [
    "### Verify access to the GPU\n",
    "The following test applies only if you expect to be using a GPU, e.g., while running in a Udacity Workspace or using an AWS instance with GPU support. Run the next cell, and verify that the device_type is \"GPU\".\n",
    "- If the device is not GPU & you are running from a Udacity Workspace, then save your workspace with the icon at the top, then click \"enable\" at the bottom of the workspace.\n",
    "- If the device is not GPU & you are running from an AWS instance, then refer to the cloud computing instructions in the classroom to verify your setup steps."
   ]
  },
  {
   "cell_type": "code",
   "execution_count": 19,
   "metadata": {},
   "outputs": [
    {
     "name": "stdout",
     "output_type": "stream",
     "text": [
      "[name: \"/cpu:0\"\n",
      "device_type: \"CPU\"\n",
      "memory_limit: 268435456\n",
      "locality {\n",
      "}\n",
      "incarnation: 9471341100009585415\n",
      ", name: \"/gpu:0\"\n",
      "device_type: \"GPU\"\n",
      "memory_limit: 313393152\n",
      "locality {\n",
      "  bus_id: 1\n",
      "}\n",
      "incarnation: 5747011204118851329\n",
      "physical_device_desc: \"device: 0, name: Tesla K80, pci bus id: 0000:00:04.0\"\n",
      "]\n"
     ]
    }
   ],
   "source": [
    "from tensorflow.python.client import device_lib\n",
    "print(device_lib.list_local_devices())"
   ]
  },
  {
   "cell_type": "markdown",
   "metadata": {},
   "source": [
    "## Dataset\n",
    "We begin by investigating the dataset that will be used to train and evaluate your pipeline.  The most common datasets used for machine translation are from [WMT](http://www.statmt.org/).  However, that will take a long time to train a neural network on.  We'll be using a dataset we created for this project that contains a small vocabulary.  You'll be able to train your model in a reasonable time with this dataset.\n",
    "### Load Data\n",
    "The data is located in `data/small_vocab_en` and `data/small_vocab_fr`. The `small_vocab_en` file contains English sentences with their French translations in the `small_vocab_fr` file. Load the English and French data from these files from running the cell below."
   ]
  },
  {
   "cell_type": "code",
   "execution_count": 20,
   "metadata": {},
   "outputs": [
    {
     "name": "stdout",
     "output_type": "stream",
     "text": [
      "Dataset Loaded\n"
     ]
    }
   ],
   "source": [
    "# Load English data\n",
    "english_sentences = helper.load_data('data/small_vocab_en')\n",
    "# Load French data\n",
    "french_sentences = helper.load_data('data/small_vocab_fr')\n",
    "\n",
    "print('Dataset Loaded')"
   ]
  },
  {
   "cell_type": "markdown",
   "metadata": {},
   "source": [
    "### Files\n",
    "Each line in `small_vocab_en` contains an English sentence with the respective translation in each line of `small_vocab_fr`.  View the first two lines from each file."
   ]
  },
  {
   "cell_type": "code",
   "execution_count": 21,
   "metadata": {},
   "outputs": [
    {
     "name": "stdout",
     "output_type": "stream",
     "text": [
      "small_vocab_en Line 1:  new jersey is sometimes quiet during autumn , and it is snowy in april .\n",
      "small_vocab_fr Line 1:  new jersey est parfois calme pendant l' automne , et il est neigeux en avril .\n",
      "small_vocab_en Line 2:  the united states is usually chilly during july , and it is usually freezing in november .\n",
      "small_vocab_fr Line 2:  les états-unis est généralement froid en juillet , et il gèle habituellement en novembre .\n"
     ]
    }
   ],
   "source": [
    "for sample_i in range(2):\n",
    "    print('small_vocab_en Line {}:  {}'.format(sample_i + 1, english_sentences[sample_i]))\n",
    "    print('small_vocab_fr Line {}:  {}'.format(sample_i + 1, french_sentences[sample_i]))"
   ]
  },
  {
   "cell_type": "markdown",
   "metadata": {},
   "source": [
    "From looking at the sentences, you can see they have been preprocessed already.  The puncuations have been delimited using spaces. All the text have been converted to lowercase.  This should save you some time, but the text requires more preprocessing.\n",
    "### Vocabulary\n",
    "The complexity of the problem is determined by the complexity of the vocabulary.  A more complex vocabulary is a more complex problem.  Let's look at the complexity of the dataset we'll be working with."
   ]
  },
  {
   "cell_type": "code",
   "execution_count": 22,
   "metadata": {},
   "outputs": [
    {
     "name": "stdout",
     "output_type": "stream",
     "text": [
      "1823250 English words.\n",
      "227 unique English words.\n",
      "10 Most common words in the English dataset:\n",
      "\"is\" \",\" \".\" \"in\" \"it\" \"during\" \"the\" \"but\" \"and\" \"sometimes\"\n",
      "\n",
      "1961295 French words.\n",
      "355 unique French words.\n",
      "10 Most common words in the French dataset:\n",
      "\"est\" \".\" \",\" \"en\" \"il\" \"les\" \"mais\" \"et\" \"la\" \"parfois\"\n"
     ]
    }
   ],
   "source": [
    "english_words_counter = collections.Counter([word for sentence in english_sentences for word in sentence.split()])\n",
    "french_words_counter = collections.Counter([word for sentence in french_sentences for word in sentence.split()])\n",
    "\n",
    "print('{} English words.'.format(len([word for sentence in english_sentences for word in sentence.split()])))\n",
    "print('{} unique English words.'.format(len(english_words_counter)))\n",
    "print('10 Most common words in the English dataset:')\n",
    "print('\"' + '\" \"'.join(list(zip(*english_words_counter.most_common(10)))[0]) + '\"')\n",
    "print()\n",
    "print('{} French words.'.format(len([word for sentence in french_sentences for word in sentence.split()])))\n",
    "print('{} unique French words.'.format(len(french_words_counter)))\n",
    "print('10 Most common words in the French dataset:')\n",
    "print('\"' + '\" \"'.join(list(zip(*french_words_counter.most_common(10)))[0]) + '\"')"
   ]
  },
  {
   "cell_type": "markdown",
   "metadata": {},
   "source": [
    "For comparison, _Alice's Adventures in Wonderland_ contains 2,766 unique words of a total of 15,500 words.\n",
    "## Preprocess\n",
    "For this project, you won't use text data as input to your model. Instead, you'll convert the text into sequences of integers using the following preprocess methods:\n",
    "1. Tokenize the words into ids\n",
    "2. Add padding to make all the sequences the same length.\n",
    "\n",
    "Time to start preprocessing the data...\n",
    "### Tokenize (IMPLEMENTATION)\n",
    "For a neural network to predict on text data, it first has to be turned into data it can understand. Text data like \"dog\" is a sequence of ASCII character encodings.  Since a neural network is a series of multiplication and addition operations, the input data needs to be number(s).\n",
    "\n",
    "We can turn each character into a number or each word into a number.  These are called character and word ids, respectively.  Character ids are used for character level models that generate text predictions for each character.  A word level model uses word ids that generate text predictions for each word.  Word level models tend to learn better, since they are lower in complexity, so we'll use those.\n",
    "\n",
    "Turn each sentence into a sequence of words ids using Keras's [`Tokenizer`](https://keras.io/preprocessing/text/#tokenizer) function. Use this function to tokenize `english_sentences` and `french_sentences` in the cell below.\n",
    "\n",
    "Running the cell will run `tokenize` on sample data and show output for debugging."
   ]
  },
  {
   "cell_type": "code",
   "execution_count": 23,
   "metadata": {},
   "outputs": [
    {
     "name": "stdout",
     "output_type": "stream",
     "text": [
      "{'the': 1, 'quick': 2, 'a': 3, 'brown': 4, 'fox': 5, 'jumps': 6, 'over': 7, 'lazy': 8, 'dog': 9, 'by': 10, 'jove': 11, 'my': 12, 'study': 13, 'of': 14, 'lexicography': 15, 'won': 16, 'prize': 17, 'this': 18, 'is': 19, 'short': 20, 'sentence': 21}\n",
      "\n",
      "Sequence 1 in x\n",
      "  Input:  The quick brown fox jumps over the lazy dog .\n",
      "  Output: [1, 2, 4, 5, 6, 7, 1, 8, 9]\n",
      "Sequence 2 in x\n",
      "  Input:  By Jove , my quick study of lexicography won a prize .\n",
      "  Output: [10, 11, 12, 2, 13, 14, 15, 16, 3, 17]\n",
      "Sequence 3 in x\n",
      "  Input:  This is a short sentence .\n",
      "  Output: [18, 19, 3, 20, 21]\n"
     ]
    }
   ],
   "source": [
    "def tokenize(x):\n",
    "    \"\"\"\n",
    "    Tokenize x\n",
    "    :param x: List of sentences/strings to be tokenized\n",
    "    :return: Tuple of (tokenized x data, tokenizer used to tokenize x)\n",
    "    \"\"\"\n",
    "    # TODO: Implement\n",
    "    x_tk = Tokenizer()\n",
    "    x_tk.fit_on_texts(x)\n",
    "\n",
    "    return x_tk.texts_to_sequences(x), x_tk\n",
    "\n",
    "tests.test_tokenize(tokenize)\n",
    "\n",
    "# Tokenize Example output\n",
    "text_sentences = [\n",
    "    'The quick brown fox jumps over the lazy dog .',\n",
    "    'By Jove , my quick study of lexicography won a prize .',\n",
    "    'This is a short sentence .']\n",
    "text_tokenized, text_tokenizer = tokenize(text_sentences)\n",
    "print(text_tokenizer.word_index)\n",
    "print()\n",
    "for sample_i, (sent, token_sent) in enumerate(zip(text_sentences, text_tokenized)):\n",
    "    print('Sequence {} in x'.format(sample_i + 1))\n",
    "    print('  Input:  {}'.format(sent))\n",
    "    print('  Output: {}'.format(token_sent))"
   ]
  },
  {
   "cell_type": "markdown",
   "metadata": {},
   "source": [
    "### Padding (IMPLEMENTATION)\n",
    "When batching the sequence of word ids together, each sequence needs to be the same length.  Since sentences are dynamic in length, we can add padding to the end of the sequences to make them the same length.\n",
    "\n",
    "Make sure all the English sequences have the same length and all the French sequences have the same length by adding padding to the **end** of each sequence using Keras's [`pad_sequences`](https://keras.io/preprocessing/sequence/#pad_sequences) function."
   ]
  },
  {
   "cell_type": "code",
   "execution_count": 24,
   "metadata": {},
   "outputs": [
    {
     "name": "stdout",
     "output_type": "stream",
     "text": [
      "Sequence 1 in x\n",
      "  Input:  [1 2 4 5 6 7 1 8 9]\n",
      "  Output: [1 2 4 5 6 7 1 8 9 0]\n",
      "Sequence 2 in x\n",
      "  Input:  [10 11 12  2 13 14 15 16  3 17]\n",
      "  Output: [10 11 12  2 13 14 15 16  3 17]\n",
      "Sequence 3 in x\n",
      "  Input:  [18 19  3 20 21]\n",
      "  Output: [18 19  3 20 21  0  0  0  0  0]\n"
     ]
    }
   ],
   "source": [
    "def pad(x, length=None):\n",
    "    \"\"\"\n",
    "    Pad x\n",
    "    :param x: List of sequences.\n",
    "    :param length: Length to pad the sequence to.  If None, use length of longest sequence in x.\n",
    "    :return: Padded numpy array of sequences\n",
    "    \"\"\"\n",
    "    if length is None:\n",
    "        length = max([len(sentence) for sentence in x])\n",
    "    return pad_sequences(x, maxlen=length, padding='post')\n",
    "\n",
    "tests.test_pad(pad)\n",
    "\n",
    "# Pad Tokenized output\n",
    "test_pad = pad(text_tokenized)\n",
    "for sample_i, (token_sent, pad_sent) in enumerate(zip(text_tokenized, test_pad)):\n",
    "    print('Sequence {} in x'.format(sample_i + 1))\n",
    "    print('  Input:  {}'.format(np.array(token_sent)))\n",
    "    print('  Output: {}'.format(pad_sent))"
   ]
  },
  {
   "cell_type": "markdown",
   "metadata": {},
   "source": [
    "### Preprocess Pipeline\n",
    "Your focus for this project is to build neural network architecture, so we won't ask you to create a preprocess pipeline.  Instead, we've provided you with the implementation of the `preprocess` function."
   ]
  },
  {
   "cell_type": "code",
   "execution_count": 25,
   "metadata": {},
   "outputs": [
    {
     "name": "stdout",
     "output_type": "stream",
     "text": [
      "Data Preprocessed\n",
      "Max English sentence length: 15\n",
      "Max French sentence length: 21\n",
      "English vocabulary size: 199\n",
      "French vocabulary size: 344\n"
     ]
    }
   ],
   "source": [
    "def preprocess(x, y):\n",
    "    \"\"\"\n",
    "    Preprocess x and y\n",
    "    :param x: Feature List of sentences\n",
    "    :param y: Label List of sentences\n",
    "    :return: Tuple of (Preprocessed x, Preprocessed y, x tokenizer, y tokenizer)\n",
    "    \"\"\"\n",
    "    preprocess_x, x_tk = tokenize(x)\n",
    "    preprocess_y, y_tk = tokenize(y)\n",
    "\n",
    "    preprocess_x = pad(preprocess_x)\n",
    "    preprocess_y = pad(preprocess_y)\n",
    "\n",
    "    # Keras's sparse_categorical_crossentropy function requires the labels to be in 3 dimensions\n",
    "    preprocess_y = preprocess_y.reshape(*preprocess_y.shape, 1)\n",
    "\n",
    "    return preprocess_x, preprocess_y, x_tk, y_tk\n",
    "\n",
    "preproc_english_sentences, preproc_french_sentences, english_tokenizer, french_tokenizer =\\\n",
    "    preprocess(english_sentences, french_sentences)\n",
    "    \n",
    "max_english_sequence_length = preproc_english_sentences.shape[1]\n",
    "max_french_sequence_length = preproc_french_sentences.shape[1]\n",
    "english_vocab_size = len(english_tokenizer.word_index)\n",
    "french_vocab_size = len(french_tokenizer.word_index)\n",
    "\n",
    "print('Data Preprocessed')\n",
    "print(\"Max English sentence length:\", max_english_sequence_length)\n",
    "print(\"Max French sentence length:\", max_french_sequence_length)\n",
    "print(\"English vocabulary size:\", english_vocab_size)\n",
    "print(\"French vocabulary size:\", french_vocab_size)"
   ]
  },
  {
   "cell_type": "markdown",
   "metadata": {},
   "source": [
    "## Models\n",
    "In this section, you will experiment with various neural network architectures.\n",
    "You will begin by training four relatively simple architectures.\n",
    "- Model 1 is a simple RNN\n",
    "- Model 2 is a RNN with Embedding\n",
    "- Model 3 is a Bidirectional RNN\n",
    "- Model 4 is an optional Encoder-Decoder RNN\n",
    "\n",
    "After experimenting with the four simple architectures, you will construct a deeper architecture that is designed to outperform all four models.\n",
    "### Ids Back to Text\n",
    "The neural network will be translating the input to words ids, which isn't the final form we want.  We want the French translation.  The function `logits_to_text` will bridge the gab between the logits from the neural network to the French translation.  You'll be using this function to better understand the output of the neural network."
   ]
  },
  {
   "cell_type": "code",
   "execution_count": 26,
   "metadata": {},
   "outputs": [
    {
     "name": "stdout",
     "output_type": "stream",
     "text": [
      "`logits_to_text` function loaded.\n"
     ]
    }
   ],
   "source": [
    "def logits_to_text(logits, tokenizer):\n",
    "    \"\"\"\n",
    "    Turn logits from a neural network into text using the tokenizer\n",
    "    :param logits: Logits from a neural network\n",
    "    :param tokenizer: Keras Tokenizer fit on the labels\n",
    "    :return: String that represents the text of the logits\n",
    "    \"\"\"\n",
    "    index_to_words = {id: word for word, id in tokenizer.word_index.items()}\n",
    "    index_to_words[0] = '<PAD>'\n",
    "\n",
    "    return ' '.join([index_to_words[prediction] for prediction in np.argmax(logits, 1)])\n",
    "\n",
    "print('`logits_to_text` function loaded.')"
   ]
  },
  {
   "cell_type": "markdown",
   "metadata": {},
   "source": [
    "### Model 1: RNN (IMPLEMENTATION)\n",
    "![RNN](images/rnn.png)\n",
    "A basic RNN model is a good baseline for sequence data.  In this model, you'll build a RNN that translates English to French."
   ]
  },
  {
   "cell_type": "code",
   "execution_count": 27,
   "metadata": {},
   "outputs": [
    {
     "name": "stdout",
     "output_type": "stream",
     "text": [
      "Train on 110288 samples, validate on 27573 samples\n",
      "Epoch 1/20\n",
      "110288/110288 [==============================] - 19s 175us/step - loss: 1.7993 - acc: 0.5692 - val_loss: 1.3278 - val_acc: 0.6291\n",
      "Epoch 2/20\n",
      "110288/110288 [==============================] - 18s 164us/step - loss: 1.2106 - acc: 0.6491 - val_loss: 1.1182 - val_acc: 0.6621\n",
      "Epoch 3/20\n",
      "110288/110288 [==============================] - 18s 164us/step - loss: 1.0615 - acc: 0.6712 - val_loss: 1.0130 - val_acc: 0.6730\n",
      "Epoch 4/20\n",
      "110288/110288 [==============================] - 18s 164us/step - loss: 0.9779 - acc: 0.6836 - val_loss: 0.9456 - val_acc: 0.6919\n",
      "Epoch 5/20\n",
      "110288/110288 [==============================] - 18s 165us/step - loss: 0.9150 - acc: 0.6965 - val_loss: 0.8913 - val_acc: 0.7066\n",
      "Epoch 6/20\n",
      "110288/110288 [==============================] - 18s 164us/step - loss: 0.8612 - acc: 0.7117 - val_loss: 0.8445 - val_acc: 0.7214\n",
      "Epoch 7/20\n",
      "110288/110288 [==============================] - 18s 164us/step - loss: 0.8050 - acc: 0.7356 - val_loss: 0.7690 - val_acc: 0.7551\n",
      "Epoch 8/20\n",
      "110288/110288 [==============================] - 18s 165us/step - loss: 0.7498 - acc: 0.7615 - val_loss: 0.7208 - val_acc: 0.7724\n",
      "Epoch 9/20\n",
      "110288/110288 [==============================] - 18s 164us/step - loss: 0.7074 - acc: 0.7791 - val_loss: 0.6829 - val_acc: 0.7932\n",
      "Epoch 10/20\n",
      "110288/110288 [==============================] - 18s 164us/step - loss: 0.6702 - acc: 0.7930 - val_loss: 0.6578 - val_acc: 0.8008\n",
      "Epoch 11/20\n",
      "110288/110288 [==============================] - 18s 164us/step - loss: 0.6437 - acc: 0.8022 - val_loss: 0.6306 - val_acc: 0.8070\n",
      "Epoch 12/20\n",
      "110288/110288 [==============================] - 18s 165us/step - loss: 0.6217 - acc: 0.8092 - val_loss: 0.6077 - val_acc: 0.8116\n",
      "Epoch 13/20\n",
      "110288/110288 [==============================] - 18s 164us/step - loss: 0.5991 - acc: 0.8163 - val_loss: 0.6002 - val_acc: 0.8119\n",
      "Epoch 14/20\n",
      "110288/110288 [==============================] - 18s 164us/step - loss: 0.5787 - acc: 0.8224 - val_loss: 0.5752 - val_acc: 0.8213\n",
      "Epoch 15/20\n",
      "110288/110288 [==============================] - 18s 164us/step - loss: 0.5630 - acc: 0.8267 - val_loss: 0.5573 - val_acc: 0.8278\n",
      "Epoch 16/20\n",
      "110288/110288 [==============================] - 18s 164us/step - loss: 0.5459 - acc: 0.8322 - val_loss: 0.5478 - val_acc: 0.8307\n",
      "Epoch 17/20\n",
      "110288/110288 [==============================] - 18s 165us/step - loss: 0.5341 - acc: 0.8348 - val_loss: 0.5292 - val_acc: 0.8424\n",
      "Epoch 18/20\n",
      "110288/110288 [==============================] - 18s 165us/step - loss: 0.5163 - acc: 0.8410 - val_loss: 0.5309 - val_acc: 0.8354\n",
      "Epoch 19/20\n",
      "110288/110288 [==============================] - 18s 164us/step - loss: 0.5093 - acc: 0.8421 - val_loss: 0.5291 - val_acc: 0.8357\n",
      "Epoch 20/20\n",
      "110288/110288 [==============================] - 18s 164us/step - loss: 0.4964 - acc: 0.8463 - val_loss: 0.4891 - val_acc: 0.8481\n",
      "new jersey est parfois calme en mois de il il est neigeux en <PAD> <PAD> <PAD> <PAD> <PAD> <PAD> <PAD> <PAD>\n"
     ]
    }
   ],
   "source": [
    "from keras.models import Sequential\n",
    "\n",
    "def simple_model(input_shape, output_sequence_length, english_vocab_size, french_vocab_size):\n",
    "    \"\"\"\n",
    "    Build and train a basic RNN on x and y\n",
    "    :param input_shape: Tuple of input shape\n",
    "    :param output_sequence_length: Length of output sequence\n",
    "    :param english_vocab_size: Number of unique English words in the dataset\n",
    "    :param french_vocab_size: Number of unique French words in the dataset\n",
    "    :return: Keras model built, but not trained\n",
    "    \"\"\"\n",
    "    # TODO: Build the layers\n",
    "    learning_rate = 1e-3\n",
    "    \n",
    "    \n",
    "    model = Sequential()\n",
    "    model.add(InputLayer(input_shape=input_shape[1:]))\n",
    "    model.add(GRU(units = 256, return_sequences=True))\n",
    "    model.add(TimeDistributed(Dense(french_vocab_size)))\n",
    "    model.add(Activation('softmax'))\n",
    " \n",
    "    model.compile(loss=sparse_categorical_crossentropy,\n",
    "                  optimizer=Adam(learning_rate),\n",
    "                  metrics=['accuracy'])\n",
    "\n",
    "    return model\n",
    "\n",
    "tests.test_simple_model(simple_model)\n",
    "\n",
    "# Reshaping the input to work with a basic RNN\n",
    "tmp_x = pad(preproc_english_sentences, max_french_sequence_length)\n",
    "tmp_x = tmp_x.reshape((-1, preproc_french_sentences.shape[-2], 1))\n",
    "\n",
    "# Train the neural network\n",
    "simple_rnn_model = simple_model(\n",
    "    tmp_x.shape,\n",
    "    max_french_sequence_length,\n",
    "    english_vocab_size + 1,\n",
    "    french_vocab_size + 1)\n",
    "simple_rnn_model.fit(tmp_x, preproc_french_sentences, batch_size=256, epochs=20, validation_split=0.2)\n",
    "\n",
    "# Print prediction(s)\n",
    "print(logits_to_text(simple_rnn_model.predict(tmp_x[:1])[0], french_tokenizer))"
   ]
  },
  {
   "cell_type": "markdown",
   "metadata": {},
   "source": [
    "### Model 2: Embedding (IMPLEMENTATION)\n",
    "![RNN](images/embedding.png)\n",
    "You've turned the words into ids, but there's a better representation of a word.  This is called word embeddings.  An embedding is a vector representation of the word that is close to similar words in n-dimensional space, where the n represents the size of the embedding vectors.\n",
    "\n",
    "In this model, you'll create a RNN model using embedding."
   ]
  },
  {
   "cell_type": "code",
   "execution_count": 102,
   "metadata": {},
   "outputs": [
    {
     "data": {
      "text/plain": [
       "(137861, 21, 1)"
      ]
     },
     "execution_count": 102,
     "metadata": {},
     "output_type": "execute_result"
    }
   ],
   "source": [
    "preproc_french_sentences.shape"
   ]
  },
  {
   "cell_type": "code",
   "execution_count": 103,
   "metadata": {},
   "outputs": [
    {
     "data": {
      "text/plain": [
       "(137861, 15)"
      ]
     },
     "execution_count": 103,
     "metadata": {},
     "output_type": "execute_result"
    }
   ],
   "source": [
    "preproc_english_sentences.shape"
   ]
  },
  {
   "cell_type": "code",
   "execution_count": 110,
   "metadata": {},
   "outputs": [
    {
     "data": {
      "text/plain": [
       "(137861, 15, 1)"
      ]
     },
     "execution_count": 110,
     "metadata": {},
     "output_type": "execute_result"
    }
   ],
   "source": [
    "tmp_x = pad(preproc_english_sentences, max_english_sequence_length)\n",
    "tmp_x = tmp_x.reshape((-1, preproc_english_sentences.shape[-1], 1))\n",
    "tmp_x.shape"
   ]
  },
  {
   "cell_type": "code",
   "execution_count": 107,
   "metadata": {},
   "outputs": [
    {
     "data": {
      "text/plain": [
       "(137861, 21, 1)"
      ]
     },
     "execution_count": 107,
     "metadata": {},
     "output_type": "execute_result"
    }
   ],
   "source": [
    "tmp_x = pad(preproc_english_sentences, max_french_sequence_length)\n",
    "tmp_x = tmp_x.reshape((-1, preproc_french_sentences.shape[-2], 1))\n",
    "tmp_x.shape"
   ]
  },
  {
   "cell_type": "code",
   "execution_count": 27,
   "metadata": {},
   "outputs": [
    {
     "name": "stdout",
     "output_type": "stream",
     "text": [
      "Train on 110288 samples, validate on 27573 samples\n",
      "Epoch 1/10\n",
      "110288/110288 [==============================] - 13s 115us/step - loss: 0.3135 - acc: 0.9032 - val_loss: 0.3030 - val_acc: 0.9066\n",
      "Epoch 2/10\n",
      "110288/110288 [==============================] - 12s 111us/step - loss: 0.2924 - acc: 0.9086 - val_loss: 0.2847 - val_acc: 0.9107\n",
      "Epoch 3/10\n",
      "110288/110288 [==============================] - 12s 112us/step - loss: 0.2775 - acc: 0.9124 - val_loss: 0.2840 - val_acc: 0.9102\n",
      "Epoch 4/10\n",
      "110288/110288 [==============================] - 12s 112us/step - loss: 0.2620 - acc: 0.9165 - val_loss: 0.2599 - val_acc: 0.9178\n",
      "Epoch 5/10\n",
      "110288/110288 [==============================] - 12s 111us/step - loss: 0.2517 - acc: 0.9193 - val_loss: 0.2525 - val_acc: 0.9193\n",
      "Epoch 6/10\n",
      "110288/110288 [==============================] - 12s 112us/step - loss: 0.2420 - acc: 0.9218 - val_loss: 0.2401 - val_acc: 0.9228\n",
      "Epoch 7/10\n",
      "110288/110288 [==============================] - 12s 111us/step - loss: 0.2326 - acc: 0.9244 - val_loss: 0.2342 - val_acc: 0.9244\n",
      "Epoch 8/10\n",
      "110288/110288 [==============================] - 12s 111us/step - loss: 0.2259 - acc: 0.9259 - val_loss: 0.2300 - val_acc: 0.9250\n",
      "Epoch 9/10\n",
      "110288/110288 [==============================] - 12s 112us/step - loss: 0.2218 - acc: 0.9266 - val_loss: 0.2264 - val_acc: 0.9259\n",
      "Epoch 10/10\n",
      "110288/110288 [==============================] - 12s 111us/step - loss: 0.2140 - acc: 0.9289 - val_loss: 0.2225 - val_acc: 0.9266\n",
      "portugais rouillée n'aimez souris lui chats favori était était mai envisagent animaux animaux pluie pousse pousse pousse froid redouté redouté redouté\n"
     ]
    }
   ],
   "source": [
    "def embed_model(input_shape, output_sequence_length, english_vocab_size, french_vocab_size):\n",
    "    \"\"\"\n",
    "    Build and train a RNN model using word embedding on x and y\n",
    "    :param input_shape: Tuple of input shape\n",
    "    :param output_sequence_length: Length of output sequence\n",
    "    :param english_vocab_size: Number of unique English words in the dataset\n",
    "    :param french_vocab_size: Number of unique French words in the dataset\n",
    "    :return: Keras model built, but not trained\n",
    "    \"\"\"\n",
    "    # TODO: Build the layers\n",
    "    \n",
    "    # Hyperparameters\n",
    "    learning_rate = 1e-3\n",
    "    embedding_size = 100\n",
    "    rnn_cells = 256\n",
    "    \n",
    "    model = Sequential()\n",
    "    model.add(InputLayer(input_shape=(input_shape[-1], )))\n",
    "    \n",
    "    embedding_layer = Embedding(\n",
    "        input_dim = english_vocab_size,\n",
    "        output_dim = embedding_size,\n",
    "        input_length = input_shape[1]\n",
    "    )\n",
    "    \n",
    "    model.add(embedding_layer)\n",
    "    model.add(GRU(units=rnn_cells, return_sequences=True))\n",
    "    model.add(TimeDistributed(Dense(french_vocab_size)))\n",
    "    model.add(Activation('softmax'))\n",
    " \n",
    "    model.compile(loss=sparse_categorical_crossentropy,\n",
    "                  optimizer=Adam(learning_rate),\n",
    "                  metrics=['accuracy'])\n",
    "\n",
    "    return model\n",
    "\n",
    "tests.test_embed_model(embed_model)\n",
    "\n",
    "\n",
    "# Reshaping the input to work with a basic RNN\n",
    "tmp_x = pad(preproc_english_sentences, max_french_sequence_length)\n",
    "\n",
    "# TODO: Train the neural network\n",
    "embed_rnn_model = embed_model(\n",
    "    tmp_x.shape,\n",
    "    max_french_sequence_length,\n",
    "    english_vocab_size + 1,\n",
    "    french_vocab_size + 1)\n",
    "simple_rnn_model.fit(tmp_x, preproc_french_sentences, batch_size=1024, epochs=10, validation_split=0.2)\n",
    "\n",
    "# TODO: Print prediction(s)\n",
    "print(logits_to_text(embed_rnn_model.predict(tmp_x[:1])[0], french_tokenizer))"
   ]
  },
  {
   "cell_type": "markdown",
   "metadata": {},
   "source": [
    "### Model 3: Bidirectional RNNs (IMPLEMENTATION)\n",
    "![RNN](images/bidirectional.png)\n",
    "One restriction of a RNN is that it can't see the future input, only the past.  This is where bidirectional recurrent neural networks come in.  They are able to see the future data."
   ]
  },
  {
   "cell_type": "code",
   "execution_count": 37,
   "metadata": {},
   "outputs": [
    {
     "name": "stdout",
     "output_type": "stream",
     "text": [
      "Train on 110288 samples, validate on 27573 samples\n",
      "Epoch 1/10\n",
      "110288/110288 [==============================] - 19s 169us/step - loss: 2.4963 - acc: 0.4857 - val_loss: 1.8118 - val_acc: 0.5701\n",
      "Epoch 2/10\n",
      "110288/110288 [==============================] - 17s 159us/step - loss: 1.5992 - acc: 0.5909 - val_loss: 1.4648 - val_acc: 0.6075\n",
      "Epoch 3/10\n",
      "110288/110288 [==============================] - 18s 159us/step - loss: 1.3884 - acc: 0.6203 - val_loss: 1.3201 - val_acc: 0.6315\n",
      "Epoch 4/10\n",
      "110288/110288 [==============================] - 18s 159us/step - loss: 1.2720 - acc: 0.6396 - val_loss: 1.2271 - val_acc: 0.6454\n",
      "Epoch 5/10\n",
      "110288/110288 [==============================] - 17s 159us/step - loss: 1.1902 - acc: 0.6510 - val_loss: 1.1555 - val_acc: 0.6542\n",
      "Epoch 6/10\n",
      "110288/110288 [==============================] - 17s 159us/step - loss: 1.1263 - acc: 0.6613 - val_loss: 1.0950 - val_acc: 0.6677\n",
      "Epoch 7/10\n",
      "110288/110288 [==============================] - 17s 159us/step - loss: 1.0731 - acc: 0.6696 - val_loss: 1.0518 - val_acc: 0.6713\n",
      "Epoch 8/10\n",
      "110288/110288 [==============================] - 17s 159us/step - loss: 1.0306 - acc: 0.6755 - val_loss: 1.0099 - val_acc: 0.6780\n",
      "Epoch 9/10\n",
      "110288/110288 [==============================] - 17s 159us/step - loss: 0.9935 - acc: 0.6815 - val_loss: 0.9811 - val_acc: 0.6816\n",
      "Epoch 10/10\n",
      "110288/110288 [==============================] - 17s 159us/step - loss: 0.9634 - acc: 0.6873 - val_loss: 0.9457 - val_acc: 0.6945\n",
      "new jersey est parfois chaud en mois de mai est il est en en <PAD> <PAD> <PAD> <PAD> <PAD> <PAD> <PAD>\n"
     ]
    }
   ],
   "source": [
    "def bd_model(input_shape, output_sequence_length, english_vocab_size, french_vocab_size):\n",
    "    \"\"\"\n",
    "    Build and train a bidirectional RNN model on x and y\n",
    "    :param input_shape: Tuple of input shape\n",
    "    :param output_sequence_length: Length of output sequence\n",
    "    :param english_vocab_size: Number of unique English words in the dataset\n",
    "    :param french_vocab_size: Number of unique French words in the dataset\n",
    "    :return: Keras model built, but not trained\n",
    "    \"\"\"\n",
    "    # Hyperparameters\n",
    "    learning_rate = 1e-3\n",
    "    rnn_cells = 256\n",
    "    \n",
    "    input_seq = Input(shape=input_shape[1:])\n",
    "    right_rnn = GRU(units=rnn_cells, return_sequences=True, go_backwards=False)(input_seq)\n",
    "    left_rnn = GRU(units=rnn_cells, return_sequences=True, go_backwards=True)(input_seq)\n",
    "    logits = TimeDistributed(Dense(units=french_vocab_size))(concatenate([right_rnn, left_rnn])) \n",
    "\n",
    "    model = Model(input_seq, Activation('softmax')(logits))\n",
    " \n",
    "    model.compile(loss=sparse_categorical_crossentropy,\n",
    "                  optimizer=Adam(learning_rate),\n",
    "                  metrics=['accuracy'])\n",
    "\n",
    "    return model\n",
    "\n",
    "tests.test_bd_model(bd_model)\n",
    "\n",
    "# TODO: Train and Print prediction(s)\n",
    "\n",
    "# Pad and Reshape the input to work with a RNN without an Embedding layer\n",
    "tmp_x = pad(preproc_english_sentences, max_french_sequence_length)\n",
    "tmp_x = tmp_x.reshape((-1, preproc_french_sentences.shape[-2], 1))\n",
    "#print(\"Debug tmp_x shape=\", tmp_x.shape )\n",
    "\n",
    "# Train the neural network \n",
    "bd_rnn_model = bd_model(\n",
    "    tmp_x.shape,\n",
    "    max_french_sequence_length,\n",
    "    english_vocab_size + 1,\n",
    "    french_vocab_size + 1)\n",
    "\n",
    "bd_rnn_model.fit(tmp_x, preproc_french_sentences, batch_size=1024, epochs=10, validation_split=0.2)\n",
    "\n",
    "# Print prediction(s)\n",
    "print(logits_to_text(bd_rnn_model.predict(tmp_x[:1])[0], french_tokenizer))"
   ]
  },
  {
   "cell_type": "markdown",
   "metadata": {},
   "source": [
    "### Model 4: Encoder-Decoder (OPTIONAL)\n",
    "Time to look at encoder-decoder models.  This model is made up of an encoder and decoder. The encoder creates a matrix representation of the sentence.  The decoder takes this matrix as input and predicts the translation as output.\n",
    "\n",
    "Create an encoder-decoder model in the cell below."
   ]
  },
  {
   "cell_type": "code",
   "execution_count": 78,
   "metadata": {},
   "outputs": [
    {
     "name": "stdout",
     "output_type": "stream",
     "text": [
      "Train on 110288 samples, validate on 27573 samples\n",
      "Epoch 1/10\n",
      "110288/110288 [==============================] - 22s 196us/step - loss: 2.9012 - acc: 0.4510 - val_loss: 2.3195 - val_acc: 0.4906\n",
      "Epoch 2/10\n",
      "110288/110288 [==============================] - 20s 180us/step - loss: 2.1478 - acc: 0.5145 - val_loss: 1.9081 - val_acc: 0.5485\n",
      "Epoch 3/10\n",
      "110288/110288 [==============================] - 20s 181us/step - loss: 1.7976 - acc: 0.5506 - val_loss: 1.6935 - val_acc: 0.5631\n",
      "Epoch 4/10\n",
      "110288/110288 [==============================] - 20s 180us/step - loss: 1.6420 - acc: 0.5698 - val_loss: 1.5760 - val_acc: 0.5811\n",
      "Epoch 5/10\n",
      "110288/110288 [==============================] - 20s 180us/step - loss: 1.5440 - acc: 0.5854 - val_loss: 1.4928 - val_acc: 0.5955\n",
      "Epoch 6/10\n",
      "110288/110288 [==============================] - 20s 180us/step - loss: 1.4622 - acc: 0.6011 - val_loss: 1.4385 - val_acc: 0.6052\n",
      "Epoch 7/10\n",
      "110288/110288 [==============================] - 20s 180us/step - loss: 1.3857 - acc: 0.6162 - val_loss: 1.3557 - val_acc: 0.6209\n",
      "Epoch 8/10\n",
      "110288/110288 [==============================] - 20s 180us/step - loss: 1.3312 - acc: 0.6261 - val_loss: 1.3046 - val_acc: 0.6330\n",
      "Epoch 9/10\n",
      "110288/110288 [==============================] - 20s 180us/step - loss: 1.2975 - acc: 0.6329 - val_loss: 1.2718 - val_acc: 0.6393\n",
      "Epoch 10/10\n",
      "110288/110288 [==============================] - 20s 180us/step - loss: 1.2651 - acc: 0.6391 - val_loss: 1.2475 - val_acc: 0.6425\n",
      "new jersey est jamais agréable en mois et il est est en en <PAD> <PAD> <PAD> <PAD> <PAD> <PAD> <PAD> <PAD>\n"
     ]
    }
   ],
   "source": [
    "def encdec_model(input_shape, output_sequence_length, english_vocab_size, french_vocab_size):\n",
    "    \"\"\"\n",
    "    Build and train an encoder-decoder model on x and y\n",
    "    :param input_shape: Tuple of input shape\n",
    "    :param output_sequence_length: Length of output sequence\n",
    "    :param english_vocab_size: Number of unique English words in the dataset\n",
    "    :param french_vocab_size: Number of unique French words in the dataset\n",
    "    :return: Keras model built, but not trained\n",
    "    \"\"\"\n",
    "    # OPTIONAL: Implement\n",
    "    learning_rate = 1e-3\n",
    "    rnn_cells = 256\n",
    "    \n",
    "    # Input\n",
    "    input_seq = Input(shape=input_shape[1:])\n",
    "    \n",
    "    # Encoder \n",
    "    encoder_output, _ = GRU(units=rnn_cells, \n",
    "                                  return_sequences=False,\n",
    "                                  return_state=True)(input_seq)\n",
    "    \n",
    "    # Decoder Input \n",
    "    r_vec = RepeatVector(output_sequence_length)(encoder_output)\n",
    "    \n",
    "    # Decoder RNN (Take the encoder returned states as initial states)\n",
    "    decoder = GRU(rnn_cells, return_sequences=True)(r_vec)\n",
    "    logits = TimeDistributed(Dense(french_vocab_size))(decoder)\n",
    "    \n",
    "    model = Model(input_seq, Activation('softmax')(logits))\n",
    " \n",
    "    model.compile(loss=sparse_categorical_crossentropy,\n",
    "                  optimizer=Adam(learning_rate),\n",
    "                  metrics=['accuracy'])\n",
    "    return model\n",
    "\n",
    "tests.test_encdec_model(encdec_model)\n",
    "\n",
    "\n",
    "# OPTIONAL: Train and Print prediction(s)\n",
    "# Pad and Reshape the input to work with a RNN without an Embedding layer\n",
    "tmp_x = pad(preproc_english_sentences, max_french_sequence_length)\n",
    "tmp_x = tmp_x.reshape((-1, preproc_french_sentences.shape[-2], 1))\n",
    "#print(\"Debug tmp_x shape=\", tmp_x.shape )\n",
    "\n",
    "# Train the neural network \n",
    "encdec_model = encdec_model(\n",
    "    tmp_x.shape,\n",
    "    max_french_sequence_length,\n",
    "    english_vocab_size + 1,\n",
    "    french_vocab_size + 1)\n",
    "\n",
    "encdec_model.fit(tmp_x, preproc_french_sentences, batch_size=1024, epochs=10, validation_split=0.2)\n",
    "\n",
    "# Print prediction(s)\n",
    "print(logits_to_text(encdec_model.predict(tmp_x[:1])[0], french_tokenizer))"
   ]
  },
  {
   "cell_type": "markdown",
   "metadata": {},
   "source": [
    "### Model 5: Custom (IMPLEMENTATION)\n",
    "Use everything you learned from the previous models to create a model that incorporates embedding and a bidirectional rnn into one model."
   ]
  },
  {
   "cell_type": "code",
   "execution_count": 11,
   "metadata": {},
   "outputs": [
    {
     "name": "stdout",
     "output_type": "stream",
     "text": [
      "Final Model Loaded\n",
      "Train on 110288 samples, validate on 27573 samples\n",
      "Epoch 1/20\n",
      "110288/110288 [==============================] - 82s 740us/step - loss: 2.8045 - acc: 0.4535 - val_loss: 2.1011 - val_acc: 0.5231\n",
      "Epoch 2/20\n",
      "110288/110288 [==============================] - 80s 724us/step - loss: 1.7102 - acc: 0.5624 - val_loss: 1.5290 - val_acc: 0.5889\n",
      "Epoch 3/20\n",
      "110288/110288 [==============================] - 80s 724us/step - loss: 1.3227 - acc: 0.6363 - val_loss: 1.2022 - val_acc: 0.6647\n",
      "Epoch 4/20\n",
      "110288/110288 [==============================] - 80s 724us/step - loss: 1.0835 - acc: 0.6912 - val_loss: 0.9783 - val_acc: 0.7128\n",
      "Epoch 5/20\n",
      "110288/110288 [==============================] - 80s 724us/step - loss: 0.9237 - acc: 0.7248 - val_loss: 0.8568 - val_acc: 0.7433\n",
      "Epoch 6/20\n",
      "110288/110288 [==============================] - 80s 724us/step - loss: 0.7940 - acc: 0.7587 - val_loss: 0.7453 - val_acc: 0.7709\n",
      "Epoch 7/20\n",
      "110288/110288 [==============================] - 80s 724us/step - loss: 0.7075 - acc: 0.7807 - val_loss: 0.6588 - val_acc: 0.7938\n",
      "Epoch 8/20\n",
      "110288/110288 [==============================] - 80s 725us/step - loss: 0.5999 - acc: 0.8138 - val_loss: 0.5663 - val_acc: 0.8236\n",
      "Epoch 9/20\n",
      "110288/110288 [==============================] - 80s 724us/step - loss: 0.5190 - acc: 0.8388 - val_loss: 0.5189 - val_acc: 0.8381\n",
      "Epoch 10/20\n",
      "110288/110288 [==============================] - 80s 725us/step - loss: 0.4401 - acc: 0.8631 - val_loss: 0.4459 - val_acc: 0.8609\n",
      "Epoch 11/20\n",
      "110288/110288 [==============================] - 80s 725us/step - loss: 0.3621 - acc: 0.8874 - val_loss: 0.3254 - val_acc: 0.9000\n",
      "Epoch 12/20\n",
      "110288/110288 [==============================] - 80s 724us/step - loss: 0.2928 - acc: 0.9098 - val_loss: 0.2678 - val_acc: 0.9175\n",
      "Epoch 13/20\n",
      "110288/110288 [==============================] - 80s 724us/step - loss: 0.2429 - acc: 0.9251 - val_loss: 0.2252 - val_acc: 0.9302\n",
      "Epoch 14/20\n",
      "110288/110288 [==============================] - 80s 724us/step - loss: 0.2045 - acc: 0.9366 - val_loss: 0.1941 - val_acc: 0.9390\n",
      "Epoch 15/20\n",
      "110288/110288 [==============================] - 80s 724us/step - loss: 0.1770 - acc: 0.9448 - val_loss: 0.1850 - val_acc: 0.9418\n",
      "Epoch 16/20\n",
      "110288/110288 [==============================] - 80s 725us/step - loss: 0.1517 - acc: 0.9530 - val_loss: 0.1507 - val_acc: 0.9529\n",
      "Epoch 17/20\n",
      "110288/110288 [==============================] - 80s 724us/step - loss: 0.1354 - acc: 0.9577 - val_loss: 0.1429 - val_acc: 0.9551\n",
      "Epoch 18/20\n",
      "110288/110288 [==============================] - 80s 724us/step - loss: 0.1192 - acc: 0.9630 - val_loss: 0.1308 - val_acc: 0.9581\n",
      "Epoch 19/20\n",
      "110288/110288 [==============================] - 80s 724us/step - loss: 0.1086 - acc: 0.9662 - val_loss: 0.1211 - val_acc: 0.9614\n",
      "Epoch 20/20\n",
      "110288/110288 [==============================] - 80s 724us/step - loss: 0.1016 - acc: 0.9684 - val_loss: 0.1214 - val_acc: 0.9617\n",
      "new jersey est parfois calme pendant l' automne et il est neigeux en avril <PAD> <PAD> <PAD> <PAD> <PAD> <PAD> <PAD>\n"
     ]
    }
   ],
   "source": [
    "def model_final(input_shape, output_sequence_length, english_vocab_size, french_vocab_size):\n",
    "    \"\"\"\n",
    "    Build and train a model that incorporates embedding, encoder-decoder, and bidirectional RNN on x and y\n",
    "    :param input_shape: Tuple of input shape\n",
    "    :param output_sequence_length: Length of output sequence\n",
    "    :param english_vocab_size: Number of unique English words in the dataset\n",
    "    :param french_vocab_size: Number of unique French words in the dataset\n",
    "    :return: Keras model built, but not trained\n",
    "    \"\"\"\n",
    "    # TODO: Implement\n",
    "    learning_rate = 1e-3\n",
    "    embedding_size = 100\n",
    "    rnn_cells = 256\n",
    "    \n",
    "    # Input\n",
    "    input_seq = Input(shape=input_shape[1:])\n",
    "    embedded_input_seq = Embedding(input_dim = english_vocab_size,\n",
    "                                   output_dim = embedding_size,\n",
    "                                   input_length=input_shape[1:][0])(input_seq)\n",
    "    \n",
    "    \n",
    "    # Encoder Forward RNN layer\n",
    "    encoder_forward_output, forward_state_h, forward_state_c = LSTM(units=rnn_cells,\n",
    "                                                                    return_state=True)(embedded_input_seq)\n",
    "    \n",
    "    # Encoder backward RNN layer\n",
    "    encoder_backward_output, backward_state_h, backward_state_c = LSTM(units=rnn_cells,\n",
    "                                                                       return_state=True,\n",
    "                                                                       go_backwards=True)(embedded_input_seq)\n",
    "    \n",
    "    # Merge the Encoders LSTMs Forward and Backward ouputs (using 'concatenate' method) \n",
    "    encoder_output = concatenate([encoder_forward_output, encoder_backward_output])    \n",
    "    \n",
    "    # Decoder Input \n",
    "    decoder_input_seq = RepeatVector(output_sequence_length)(encoder_output)\n",
    "    \n",
    "    # Decoder RNN layer\n",
    "    # Note : we need twice more LSTM cells as we have concatenated backward and forward LSTM layers in encoder\n",
    "    decoder_forward_output = LSTM(units=rnn_cells*2,\n",
    "                                  return_sequences=True)(decoder_input_seq)\n",
    "    \n",
    "    decoder_backward_output = LSTM(units=rnn_cells*2,\n",
    "                                  return_sequences=True,\n",
    "                                  go_backwards=True)(decoder_input_seq)\n",
    "    \n",
    "    # Merge the Decoders LSTMs Forward and Backward ouputs (using 'concatenate' method) \n",
    "    dense_input_seq = concatenate([decoder_forward_output, decoder_backward_output])\n",
    "    \n",
    "    # Decoder RNN (Take the encoder returned states as initial states)\n",
    "    logits = TimeDistributed(Dense(units=french_vocab_size))(dense_input_seq) \n",
    "    \n",
    "    model = Model(input_seq, Activation('softmax')(logits))\n",
    " \n",
    "    model.compile(loss=sparse_categorical_crossentropy,\n",
    "                  optimizer=Adam(learning_rate),\n",
    "                  metrics=['accuracy'])\n",
    "    return model\n",
    "\n",
    "tests.test_model_final(model_final)\n",
    "\n",
    "\n",
    "print('Final Model Loaded')\n",
    "# TODO: Train the final model\n",
    "\n",
    "# Pad and Reshape the input to work with a RNN without an Embedding layer\n",
    "tmp_x = pad(preproc_english_sentences, max_french_sequence_length)\n",
    "#print(\"Debug tmp_x shape=\", tmp_x.shape )\n",
    "\n",
    "# Train the neural network \n",
    "final_rnn_model = model_final(\n",
    "    tmp_x.shape,\n",
    "    max_french_sequence_length,\n",
    "    english_vocab_size + 1,\n",
    "    french_vocab_size + 1)\n",
    "\n",
    "final_rnn_model.fit(tmp_x, preproc_french_sentences, batch_size=1024, epochs=20, validation_split=0.2)\n",
    "\n",
    "# Print prediction(s)\n",
    "print(logits_to_text(final_rnn_model.predict(tmp_x[:1])[0], french_tokenizer))"
   ]
  },
  {
   "cell_type": "code",
   "execution_count": 14,
   "metadata": {},
   "outputs": [],
   "source": [
    "# Save the model\n",
    "final_rnn_model.save('final_rnn_model')"
   ]
  },
  {
   "cell_type": "code",
   "execution_count": 15,
   "metadata": {},
   "outputs": [
    {
     "name": "stdout",
     "output_type": "stream",
     "text": [
      "__________________________________________________________________________________________________\n",
      "Layer (type)                    Output Shape         Param #     Connected to                     \n",
      "==================================================================================================\n",
      "input_2 (InputLayer)            (None, 21)           0                                            \n",
      "__________________________________________________________________________________________________\n",
      "embedding_2 (Embedding)         (None, 21, 100)      20000       input_2[0][0]                    \n",
      "__________________________________________________________________________________________________\n",
      "lstm_5 (LSTM)                   [(None, 256), (None, 365568      embedding_2[0][0]                \n",
      "__________________________________________________________________________________________________\n",
      "lstm_6 (LSTM)                   [(None, 256), (None, 365568      embedding_2[0][0]                \n",
      "__________________________________________________________________________________________________\n",
      "concatenate_3 (Concatenate)     (None, 512)          0           lstm_5[0][0]                     \n",
      "                                                                 lstm_6[0][0]                     \n",
      "__________________________________________________________________________________________________\n",
      "repeat_vector_2 (RepeatVector)  (None, 21, 512)      0           concatenate_3[0][0]              \n",
      "__________________________________________________________________________________________________\n",
      "lstm_7 (LSTM)                   (None, 21, 512)      2099200     repeat_vector_2[0][0]            \n",
      "__________________________________________________________________________________________________\n",
      "lstm_8 (LSTM)                   (None, 21, 512)      2099200     repeat_vector_2[0][0]            \n",
      "__________________________________________________________________________________________________\n",
      "concatenate_4 (Concatenate)     (None, 21, 1024)     0           lstm_7[0][0]                     \n",
      "                                                                 lstm_8[0][0]                     \n",
      "__________________________________________________________________________________________________\n",
      "time_distributed_2 (TimeDistrib (None, 21, 345)      353625      concatenate_4[0][0]              \n",
      "__________________________________________________________________________________________________\n",
      "activation_2 (Activation)       (None, 21, 345)      0           time_distributed_2[0][0]         \n",
      "==================================================================================================\n",
      "Total params: 5,303,161\n",
      "Trainable params: 5,303,161\n",
      "Non-trainable params: 0\n",
      "__________________________________________________________________________________________________\n"
     ]
    }
   ],
   "source": [
    "from keras.models import load_model\n",
    "\n",
    "new_model = load_model('final_rnn_model')\n",
    "\n",
    "# Check its architecture\n",
    "new_model.summary()"
   ]
  },
  {
   "cell_type": "markdown",
   "metadata": {},
   "source": [
    "## Prediction (IMPLEMENTATION)"
   ]
  },
  {
   "cell_type": "code",
   "execution_count": 16,
   "metadata": {},
   "outputs": [
    {
     "name": "stdout",
     "output_type": "stream",
     "text": [
      "Sample 1:\n",
      "il a vu un vieux camion jaune <PAD> <PAD> <PAD> <PAD> <PAD> <PAD> <PAD> <PAD> <PAD> <PAD> <PAD> <PAD> <PAD> <PAD>\n",
      "Il a vu un vieux camion jaune\n",
      "Sample 2:\n",
      "new jersey est parfois calme pendant l' automne et il est neigeux en avril <PAD> <PAD> <PAD> <PAD> <PAD> <PAD> <PAD>\n",
      "new jersey est parfois calme pendant l' automne et il est neigeux en avril <PAD> <PAD> <PAD> <PAD> <PAD> <PAD> <PAD>\n"
     ]
    }
   ],
   "source": [
    "def final_predictions(x, y, x_tk, y_tk):\n",
    "    \"\"\"\n",
    "    Gets predictions using the final model\n",
    "    :param x: Preprocessed English data\n",
    "    :param y: Preprocessed French data\n",
    "    :param x_tk: English tokenizer\n",
    "    :param y_tk: French tokenizer\n",
    "    \"\"\"\n",
    "    # TODO: Train neural network using model_final\n",
    "    try:\n",
    "        model = load_model('final_rnn_model')\n",
    "    except: \n",
    "        model = model_final(input_shape = x.shape,\n",
    "                        output_sequence_length = y.shape[1],\n",
    "                        english_vocab_size = len(x_tk.word_index)+1,\n",
    "                        french_vocab_size = len(y_tk.word_index)+1)\n",
    "        \n",
    "        model.fit(x, y, batch_size=1024, epochs=10, validation_split=0.2)\n",
    "\n",
    "    \n",
    "    ## DON'T EDIT ANYTHING BELOW THIS LINE\n",
    "    y_id_to_word = {value: key for key, value in y_tk.word_index.items()}\n",
    "    y_id_to_word[0] = '<PAD>'\n",
    "\n",
    "    sentence = 'he saw a old yellow truck'\n",
    "    sentence = [x_tk.word_index[word] for word in sentence.split()]\n",
    "    sentence = pad_sequences([sentence], maxlen=x.shape[-1], padding='post')\n",
    "    sentences = np.array([sentence[0], x[0]])\n",
    "    predictions = model.predict(sentences, len(sentences))\n",
    "\n",
    "    print('Sample 1:')\n",
    "    print(' '.join([y_id_to_word[np.argmax(x)] for x in predictions[0]]))\n",
    "    print('Il a vu un vieux camion jaune')\n",
    "    print('Sample 2:')\n",
    "    print(' '.join([y_id_to_word[np.argmax(x)] for x in predictions[1]]))\n",
    "    print(' '.join([y_id_to_word[np.max(x)] for x in y[0]]))\n",
    "\n",
    "    \n",
    "tmp_x = pad(preproc_english_sentences, max_french_sequence_length)\n",
    "    \n",
    "final_predictions(tmp_x, preproc_french_sentences, english_tokenizer, french_tokenizer)"
   ]
  },
  {
   "cell_type": "markdown",
   "metadata": {},
   "source": [
    "## Submission\n",
    "When you're ready to submit, complete the following steps:\n",
    "1. Review the [rubric](https://review.udacity.com/#!/rubrics/1004/view) to ensure your submission meets all requirements to pass\n",
    "2. Generate an HTML version of this notebook\n",
    "\n",
    "  - Run the next cell to attempt automatic generation (this is the recommended method in Workspaces)\n",
    "  - Navigate to **FILE -> Download as -> HTML (.html)**\n",
    "  - Manually generate a copy using `nbconvert` from your shell terminal\n",
    "```\n",
    "$ pip install nbconvert\n",
    "$ python -m nbconvert machine_translation.ipynb\n",
    "```\n",
    "  \n",
    "3. Submit the project\n",
    "\n",
    "  - If you are in a Workspace, simply click the \"Submit Project\" button (bottom towards the right)\n",
    "  \n",
    "  - Otherwise, add the following files into a zip archive and submit them \n",
    "  - `helper.py`\n",
    "  - `machine_translation.ipynb`\n",
    "  - `machine_translation.html`\n",
    "    - You can export the notebook by navigating to **File -> Download as -> HTML (.html)**."
   ]
  },
  {
   "cell_type": "markdown",
   "metadata": {},
   "source": [
    "### Generate the html\n",
    "\n",
    "**Save your notebook before running the next cell to generate the HTML output.** Then submit your project."
   ]
  },
  {
   "cell_type": "code",
   "execution_count": 2,
   "metadata": {},
   "outputs": [
    {
     "data": {
      "text/plain": [
       "['[NbConvertApp] Converting notebook machine_translation.ipynb to html',\n",
       " '[NbConvertApp] Writing 305996 bytes to machine_translation.html']"
      ]
     },
     "execution_count": 2,
     "metadata": {},
     "output_type": "execute_result"
    }
   ],
   "source": [
    "# Save before you run this cell!\n",
    "!!jupyter nbconvert *.ipynb"
   ]
  },
  {
   "cell_type": "markdown",
   "metadata": {},
   "source": [
    "## Optional Enhancements\n",
    "\n",
    "This project focuses on learning various network architectures for machine translation, but we don't evaluate the models according to best practices by splitting the data into separate test & training sets -- so the model accuracy is overstated. Use the [`sklearn.model_selection.train_test_split()`](http://scikit-learn.org/stable/modules/generated/sklearn.model_selection.train_test_split.html) function to create separate training & test datasets, then retrain each of the models using only the training set and evaluate the prediction accuracy using the hold out test set. Does the \"best\" model change?"
   ]
  }
 ],
 "metadata": {
  "kernelspec": {
   "display_name": "Python 3",
   "language": "python",
   "name": "python3"
  },
  "language_info": {
   "codemirror_mode": {
    "name": "ipython",
    "version": 3
   },
   "file_extension": ".py",
   "mimetype": "text/x-python",
   "name": "python",
   "nbconvert_exporter": "python",
   "pygments_lexer": "ipython3",
   "version": "3.6.3"
  }
 },
 "nbformat": 4,
 "nbformat_minor": 1
}
